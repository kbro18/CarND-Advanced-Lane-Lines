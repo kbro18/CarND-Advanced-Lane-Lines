{
 "cells": [
  {
   "cell_type": "code",
   "execution_count": 1,
   "metadata": {},
   "outputs": [],
   "source": [
    "import cv2\n",
    "import numpy as np\n",
    "import matplotlib.pyplot as plt\n",
    "import matplotlib.image as mpimg\n",
    "import glob\n",
    "import time\n",
    "import os\n",
    "from utils import calibrate_cam, weighted_img, warp"
   ]
  },
  {
   "cell_type": "code",
   "execution_count": null,
   "metadata": {},
   "outputs": [],
   "source": [
    "calibration_imgs = glob.glob(\"camera_cal/calibration*.jpg\")\n",
    "ret, mtx, dist = calibrate_cam(calibration_imgs)\n",
    "print(ret)"
   ]
  },
  {
   "cell_type": "code",
   "execution_count": 82,
   "metadata": {},
   "outputs": [],
   "source": [
    "def abs_sobel_thresh(img, orient='x', sobel_kernel=3, sobel_thresh=(0, 255)):\n",
    "    # Calculate directional gradient\n",
    "    if orient == \"x\":\n",
    "        abs_sobel = np.absolute(cv2.Sobel(img, cv2.CV_64F, 1, 0, ksize=sobel_kernel)) # Take the derivative in x\n",
    "    else:\n",
    "        abs_sobel = np.absolute(cv2.Sobel(img, cv2.CV_64F, 0, 1, ksize=sobel_kernel)) # Take the derivative in x\n",
    "    scaled_sobel = np.uint8(255*abs_sobel/np.max(abs_sobel))\n",
    "    # Apply threshold\n",
    "    gradient_binary = np.zeros_like(scaled_sobel)\n",
    "    gradient_binary[(scaled_sobel >= sobel_thresh[0]) & (scaled_sobel <= sobel_thresh[1])] = 1\n",
    "    return gradient_binary\n",
    "\n",
    "def mag_threshold(img, sobel_kernel=3, mag_thresh=(0, 255)):\n",
    "    # Calculate gradient magnitude\n",
    "    sobelx = cv2.Sobel(img, cv2.CV_64F, 1, 0, ksize=sobel_kernel)\n",
    "    sobely = cv2.Sobel(img, cv2.CV_64F, 0, 1, ksize=sobel_kernel)\n",
    "    gradmag = np.sqrt(sobelx**2 + sobely**2)\n",
    "    scale_factor = np.max(gradmag)/255 \n",
    "    gradmag = (gradmag/scale_factor).astype(np.uint8) \n",
    "    # Apply threshold\n",
    "    mag_binary = np.zeros_like(gradmag)\n",
    "    mag_binary[(gradmag >= mag_thresh[0]) & (gradmag <= mag_thresh[1])] = 1\n",
    "    return mag_binary\n",
    "\n",
    "def dir_threshold(img, sobel_kernel=3, dir_thresh=(0, np.pi/2)):\n",
    "    # Calculate gradient direction\n",
    "    sobelx = cv2.Sobel(img, cv2.CV_64F, 1, 0, ksize=sobel_kernel)\n",
    "    sobely = cv2.Sobel(img, cv2.CV_64F, 0, 1, ksize=sobel_kernel)\n",
    "    absgraddir = np.arctan2(np.absolute(sobely), np.absolute(sobelx))\n",
    "    # Apply threshold\n",
    "    dir_binary =  np.zeros_like(absgraddir)\n",
    "    dir_binary[(absgraddir >= dir_thresh[0]) & (absgraddir <= dir_thresh[1])] = 1\n",
    "    return dir_binary\n",
    "\n",
    "def color_threshold(col_channel, color_thresh=(0,255)):\n",
    "    col_binary = np.zeros_like(col_channel)\n",
    "    col_binary[(col_channel >= color_thresh[0]) & (col_channel <= color_thresh[1])] = 1\n",
    "    return col_binary\n",
    "\n",
    "def combine_masks(m1, m2, logic):\n",
    "    combined = np.zeros_like(m1)\n",
    "    if logic == \"and\":\n",
    "        combined[(m1 == 1) & (m2 == 1)] = 1\n",
    "        return combined\n",
    "    if logic == \"or\":\n",
    "        combined[(m1 == 1) | (m2 == 1)] = 1\n",
    "        return combined\n",
    "    return None"
   ]
  },
  {
   "cell_type": "code",
   "execution_count": null,
   "metadata": {},
   "outputs": [],
   "source": []
  },
  {
   "cell_type": "code",
   "execution_count": 91,
   "metadata": {},
   "outputs": [],
   "source": [
    "def newPipeline(img, img_name, ksize, s_thresh=(180, 255), sx_thresh=(25, 255), sy_thresh=(15, 255), mag_thresh=(80, 255), dir_thresh=(0.8, 1.3)):\n",
    "    img = np.copy(img)\n",
    "    hls_img = cv2.cvtColor(img, cv2.COLOR_RGB2HLS)\n",
    "    \n",
    "    # individual color channels:\n",
    "    gray_img = cv2.cvtColor(img, cv2.COLOR_RGB2GRAY)\n",
    "    l_channel = hls_img[:,:,1]\n",
    "    s_channel = hls_img[:,:,2]\n",
    "    \n",
    "    gradx = abs_sobel_thresh(l_channel,'x', ksize, sx_thresh)\n",
    "    grady = abs_sobel_thresh(l_channel,'y', ksize, sy_thresh)\n",
    "    mag_binary = mag_threshold(gray_img, ksize, mag_thresh)\n",
    "    dir_binary = dir_threshold(gray_img, ksize, dir_thresh)\n",
    "    \n",
    "    c_chan_binary = color_threshold(s_channel, s_thresh)\n",
    "    \n",
    "    # combine sobel masks\n",
    "    gradxy = combine_masks(gradx, grady, \"and\")\n",
    "    \n",
    "    # combine sobel and color masks\n",
    "    combined = combine_masks(gradxy, c_chan_binary, \"or\")\n",
    "    \n",
    "    # save to disk\n",
    "    s_gradx_img = np.dstack((gradx, gradx, gradx))*255\n",
    "    cv2.imwrite(\"./test_images_output/\" + img_name[12:-4] +\"/07_\" + img_name[12:-4] + \"_s_gradx.jpg\", s_gradx_img)\n",
    "    s_grady_img = np.dstack((grady, grady, grady))*255\n",
    "    cv2.imwrite(\"./test_images_output/\" + img_name[12:-4] +\"/08_\" + img_name[12:-4] + \"_s_grady.jpg\", s_grady_img)\n",
    "    s_gradxy_img = np.dstack((gradxy, gradxy, gradxy))*255\n",
    "    cv2.imwrite(\"./test_images_output/\" + img_name[12:-4] +\"/09_\" + img_name[12:-4] + \"_s_gradxy.jpg\", s_gradxy_img)\n",
    "    s_mag_img = np.dstack((mag_binary, mag_binary, mag_binary))*255\n",
    "    cv2.imwrite(\"./test_images_output/\" + img_name[12:-4] +\"/10_\" + img_name[12:-4] + \"_s_mag.jpg\", s_mag_img)\n",
    "    s_dir_img = np.dstack((dir_binary, dir_binary, dir_binary))*255\n",
    "    cv2.imwrite(\"./test_images_output/\" + img_name[12:-4] +\"/11_\" + img_name[12:-4] + \"_s_dir.jpg\", s_dir_img)\n",
    "    c_chan_img = np.dstack((c_chan_binary, c_chan_binary, c_chan_binary))*255\n",
    "    cv2.imwrite(\"./test_images_output/\" + img_name[12:-4] +\"/12_\" + img_name[12:-4] + \"_c_chan.jpg\", c_chan_img)\n",
    "    combined_img = np.dstack((combined , combined , combined ))*255\n",
    "    cv2.imwrite(\"./test_images_output/\" + img_name[12:-4] +\"/13_\" + img_name[12:-4] + \"_combined.jpg\", combined_img)\n",
    "    \n",
    "    return combined"
   ]
  },
  {
   "cell_type": "code",
   "execution_count": null,
   "metadata": {},
   "outputs": [],
   "source": []
  },
  {
   "cell_type": "code",
   "execution_count": 21,
   "metadata": {},
   "outputs": [],
   "source": [
    "def pipeline(img, img_name,sobel_kernel=3, s_thresh=(170, 255), sx_thresh=(25, 255), sy_thresh=(15, 255)):#sx_thresh=(20, 100), sy_thresh=(15, 100)\n",
    "    img = np.copy(img)\n",
    "    # Convert to HLS color space\n",
    "    hls_img = cv2.cvtColor(img, cv2.COLOR_RGB2HLS)\n",
    "    h_channel = hls_img[:,:,0]\n",
    "    l_channel = hls_img[:,:,1]\n",
    "    s_channel = hls_img[:,:,2]\n",
    "    \n",
    "    gray_img = cv2.cvtColor(img, cv2.COLOR_RGB2GRAY)\n",
    "    \n",
    "    # Sobel x\n",
    "    sobelx = cv2.Sobel(l_channel, cv2.CV_64F, 1, 0, ksize=sobel_kernel) # Take the derivative in x\n",
    "    abs_sobelx = np.absolute(sobelx) # Absolute x derivative to accentuate lines away from horizontal\n",
    "    scaled_sobelx = np.uint8(255*abs_sobelx/np.max(abs_sobelx))\n",
    "    \n",
    "    # Threshold x gradient\n",
    "    sxbinary = np.zeros_like(scaled_sobelx)\n",
    "    sxbinary[(scaled_sobelx >= sx_thresh[0]) & (scaled_sobelx <= sx_thresh[1])] = 1\n",
    "    sx_binary_img = np.dstack((sxbinary, sxbinary, sxbinary))*255\n",
    "    cv2.imwrite(\"./test_images_output/\" + img_name[12:-4] +\"/07_\" + img_name[12:-4] + \"_sx_Binary.jpg\", sx_binary_img)\n",
    "    \n",
    "     # Sobel y\n",
    "    sobely = cv2.Sobel(l_channel, cv2.CV_64F, 0, 1, ksize=sobel_kernel) # Take the derivative in x\n",
    "    abs_sobely = np.absolute(sobely) # Absolute x derivative to accentuate lines away from horizontal\n",
    "    scaled_sobely = np.uint8(255*abs_sobely/np.max(abs_sobely))\n",
    "    \n",
    "    # Threshold y gradient\n",
    "    sybinary = np.zeros_like(scaled_sobely)\n",
    "    sybinary[(scaled_sobely >= sy_thresh[0]) & (scaled_sobely <= sy_thresh[1])] = 1\n",
    "    sy_binary_img = np.dstack((sybinary, sybinary, sybinary))*255\n",
    "    cv2.imwrite(\"./test_images_output/\" + img_name[12:-4] +\"/08_\" + img_name[12:-4] + \"_sy_Binary.jpg\", sy_binary_img)\n",
    "    \n",
    "    # Combined Sobel Thresholds\n",
    "    sobel_binary = np.zeros_like(sxbinary)\n",
    "    sobel_binary[(sxbinary == 1) & (sybinary == 1)] = 1\n",
    "    sobel_binary_img = np.dstack((sobel_binary, sobel_binary, sobel_binary))*255\n",
    "    cv2.imwrite(\"./test_images_output/\" + img_name[12:-4] +\"/09_\" + img_name[12:-4] + \"_sobel_Binary.jpg\", sobel_binary_img)\n",
    "    \n",
    "    # Threshold color channel S - saturation\n",
    "    s_binary = np.zeros_like(s_channel)\n",
    "    s_binary[(s_channel >= s_thresh[0]) & (s_channel <= s_thresh[1])] = 1\n",
    "    s_binary_img = np.dstack((s_binary, s_binary, s_binary)) * 255\n",
    "    cv2.imwrite(\"./test_images_output/\" + img_name[12:-4] +\"/10_\" + img_name[12:-4] + \"_s_Binary.jpg\", s_binary_img)\n",
    "    \n",
    "    # Stack each channel\n",
    "    combined_binary = np.zeros_like(s_binary)\n",
    "    combined_binary[(s_binary == 1) | (sobel_binary == 1)] = 1\n",
    "    combined_binary_img = np.dstack((combined_binary, combined_binary, combined_binary))*255\n",
    "    color_binary = np.dstack(( np.zeros_like(sxbinary), sxbinary, s_binary)) * 255\n",
    "    cv2.imwrite(\"./test_images_output/\" + img_name[12:-4] +\"/11_\" + img_name[12:-4] + \"_combined_Binary.jpg\", combined_binary_img)\n",
    "    return combined_binary_img\n"
   ]
  },
  {
   "cell_type": "code",
   "execution_count": 3,
   "metadata": {},
   "outputs": [
    {
     "name": "stdout",
     "output_type": "stream",
     "text": [
      "0.921982464824774\n"
     ]
    }
   ],
   "source": []
  },
  {
   "cell_type": "code",
   "execution_count": 92,
   "metadata": {},
   "outputs": [
    {
     "name": "stdout",
     "output_type": "stream",
     "text": [
      "test6.jpg\n",
      "done\n",
      "\n",
      "test5.jpg\n",
      "done\n",
      "\n",
      "test4.jpg\n",
      "done\n",
      "\n",
      "test1.jpg\n",
      "done\n",
      "\n",
      "test3.jpg\n",
      "done\n",
      "\n",
      "test2.jpg\n",
      "done\n",
      "\n",
      "straight_lines2.jpg\n",
      "done\n",
      "\n",
      "straight_lines1.jpg\n",
      "done\n",
      "\n"
     ]
    }
   ],
   "source": [
    "test_imgs = glob.glob(\"test_images/*.jpg\")\n",
    "for img_name in test_imgs:\n",
    "    if not os.path.exists(\"./test_images_output/\" + img_name[12:-4]):\n",
    "        os.makedirs(\"./test_images_output/\" + img_name[12:-4])\n",
    "    print(img_name[12:])\n",
    "    img = mpimg.imread(img_name)\n",
    "    undistorted_img = cv2.undistort(img, mtx, dist, None, mtx)\n",
    "    res = newPipeline(undistorted_img, img_name,7)\n",
    "    warped = warp(res, img_name)\n",
    "    warped_img = np.dstack((warped , warped , warped))*255\n",
    "    cv2.imwrite(\"./test_images_output/\" + img_name[12:-4] +\"/14_\" + img_name[12:-4] + \"_warped_lanes.jpg\", warped_img)\n",
    "    print(\"done\\n\")\n",
    "    \n"
   ]
  },
  {
   "cell_type": "code",
   "execution_count": 90,
   "metadata": {},
   "outputs": [
    {
     "name": "stdout",
     "output_type": "stream",
     "text": [
      "None\n"
     ]
    }
   ],
   "source": [
    "print(res)"
   ]
  },
  {
   "cell_type": "code",
   "execution_count": null,
   "metadata": {},
   "outputs": [],
   "source": []
  }
 ],
 "metadata": {
  "kernelspec": {
   "display_name": "Python 3",
   "language": "python",
   "name": "python3"
  },
  "language_info": {
   "codemirror_mode": {
    "name": "ipython",
    "version": 3
   },
   "file_extension": ".py",
   "mimetype": "text/x-python",
   "name": "python",
   "nbconvert_exporter": "python",
   "pygments_lexer": "ipython3",
   "version": "3.5.2"
  },
  "widgets": {
   "state": {},
   "version": "1.1.2"
  }
 },
 "nbformat": 4,
 "nbformat_minor": 2
}
