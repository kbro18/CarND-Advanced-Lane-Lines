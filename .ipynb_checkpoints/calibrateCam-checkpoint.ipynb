{
 "cells": [
  {
   "cell_type": "code",
   "execution_count": 7,
   "metadata": {},
   "outputs": [
    {
     "name": "stdout",
     "output_type": "stream",
     "text": [
      "done\n"
     ]
    }
   ],
   "source": [
    "import cv2\n",
    "import numpy as np\n",
    "import matplotlib.pyplot as plt\n",
    "import matplotlib.image as mpimg\n",
    "import glob\n",
    "import os\n",
    "print(\"done\")"
   ]
  },
  {
   "cell_type": "code",
   "execution_count": 10,
   "metadata": {},
   "outputs": [],
   "source": [
    "calibration_imgs = glob.glob(\"camera_cal/calibration*.jpg\")"
   ]
  },
  {
   "cell_type": "code",
   "execution_count": 19,
   "metadata": {},
   "outputs": [],
   "source": [
    "def calibrate_cam(calibration_imgs):\n",
    "    img_pts = []\n",
    "    obj_pts = []\n",
    "    obj_p = np.zeros((6*9, 3),np.float32)\n",
    "    obj_p[:,:2] = np.mgrid[0:9,0:6].T.reshape(-1,2)\n",
    "\n",
    "    for img_name in calibration_imgs:\n",
    "        img = mpimg.imread(img_name)\n",
    "        gray_img = cv2.cvtColor(img,cv2.COLOR_BGR2GRAY)\n",
    "        ret, corners = cv2.findChessboardCorners(gray_img, (9,6), None)\n",
    "        if ret:\n",
    "            img_pts.append(corners)\n",
    "            obj_pts.append(obj_p)\n",
    "            img = cv2.drawChessboardCorners(img, (9,6), corners, ret)\n",
    "            cv2.imwrite(\"./camera_cal_output/output_\" + img_name[11:] , cv2.cvtColor(img, cv2.COLOR_BGR2RGB))\n",
    "    \n",
    "    print(\"gray shape: \", gray_img.shape[::-1])\n",
    "    ret, mtx, dist, rvecs, tvecs = cv2.calibrateCamera(obj_pts, img_pts, gray_img.shape[::-1], None, None)\n",
    "    return (ret, mtx, dist)"
   ]
  },
  {
   "cell_type": "code",
   "execution_count": 20,
   "metadata": {},
   "outputs": [
    {
     "name": "stdout",
     "output_type": "stream",
     "text": [
      "here\n",
      "gray shape:  (1280, 720)\n",
      "0.9231135540074422\n"
     ]
    }
   ],
   "source": [
    "ret, mtx, dist = calibrate_cam(calibration_imgs)\n",
    "dst = cv2.undistort(img, mtx, dist, None, mtx)"
   ]
  },
  {
   "cell_type": "code",
   "execution_count": null,
   "metadata": {},
   "outputs": [],
   "source": []
  }
 ],
 "metadata": {
  "kernelspec": {
   "display_name": "Python 3",
   "language": "python",
   "name": "python3"
  },
  "language_info": {
   "codemirror_mode": {
    "name": "ipython",
    "version": 3
   },
   "file_extension": ".py",
   "mimetype": "text/x-python",
   "name": "python",
   "nbconvert_exporter": "python",
   "pygments_lexer": "ipython3",
   "version": "3.5.2"
  },
  "widgets": {
   "state": {},
   "version": "1.1.2"
  }
 },
 "nbformat": 4,
 "nbformat_minor": 2
}
